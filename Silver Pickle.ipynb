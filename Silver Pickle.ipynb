{
 "cells": [
  {
   "cell_type": "code",
   "execution_count": null,
   "id": "df840b7d",
   "metadata": {},
   "outputs": [
    {
     "name": "stderr",
     "output_type": "stream",
     "text": [
      "C:\\Users\\saibu\\anaconda3\\lib\\site-packages\\sklearn\\base.py:329: UserWarning: Trying to unpickle estimator DecisionTreeRegressor from version 1.2.2 when using version 1.0.2. This might lead to breaking code or invalid results. Use at your own risk. For more info please refer to:\n",
      "https://scikit-learn.org/stable/modules/model_persistence.html#security-maintainability-limitations\n",
      "  warnings.warn(\n"
     ]
    },
    {
     "name": "stdout",
     "output_type": "stream",
     "text": [
      " * Serving Flask app \"__main__\" (lazy loading)\n",
      " * Environment: production\n",
      "\u001b[31m   WARNING: This is a development server. Do not use it in a production deployment.\u001b[0m\n",
      "\u001b[2m   Use a production WSGI server instead.\u001b[0m\n",
      " * Debug mode: off\n"
     ]
    },
    {
     "name": "stderr",
     "output_type": "stream",
     "text": [
      "C:\\Users\\saibu\\anaconda3\\lib\\site-packages\\sklearn\\base.py:329: UserWarning: Trying to unpickle estimator RandomForestRegressor from version 1.2.2 when using version 1.0.2. This might lead to breaking code or invalid results. Use at your own risk. For more info please refer to:\n",
      "https://scikit-learn.org/stable/modules/model_persistence.html#security-maintainability-limitations\n",
      "  warnings.warn(\n",
      " * Running on all addresses.\n",
      "   WARNING: This is a development server. Do not use it in a production deployment.\n",
      " * Running on http://10.7.3.127:5001/ (Press CTRL+C to quit)\n",
      "[2023-05-03 14:43:23,976] ERROR in app: Exception on /predictSilver [POST]\n",
      "Traceback (most recent call last):\n",
      "  File \"C:\\Users\\saibu\\anaconda3\\lib\\site-packages\\flask\\app.py\", line 2447, in wsgi_app\n",
      "    response = self.full_dispatch_request()\n",
      "  File \"C:\\Users\\saibu\\anaconda3\\lib\\site-packages\\flask\\app.py\", line 1952, in full_dispatch_request\n",
      "    rv = self.handle_user_exception(e)\n",
      "  File \"C:\\Users\\saibu\\anaconda3\\lib\\site-packages\\flask\\app.py\", line 1821, in handle_user_exception\n",
      "    reraise(exc_type, exc_value, tb)\n",
      "  File \"C:\\Users\\saibu\\anaconda3\\lib\\site-packages\\flask\\_compat.py\", line 39, in reraise\n",
      "    raise value\n",
      "  File \"C:\\Users\\saibu\\anaconda3\\lib\\site-packages\\flask\\app.py\", line 1950, in full_dispatch_request\n",
      "    rv = self.dispatch_request()\n",
      "  File \"C:\\Users\\saibu\\anaconda3\\lib\\site-packages\\flask\\app.py\", line 1936, in dispatch_request\n",
      "    return self.view_functions[rule.endpoint](**req.view_args)\n",
      "  File \"C:\\Users\\saibu\\AppData\\Local\\Temp\\ipykernel_14024\\4103948709.py\", line 18, in predict\n",
      "    high=float(json_['High_Price_In_Rs'])\n",
      "ValueError: could not convert string to float: ''\n",
      "10.7.6.99 - - [03/May/2023 14:43:23] \"POST /predictSilver HTTP/1.1\" 500 -\n"
     ]
    },
    {
     "name": "stdout",
     "output_type": "stream",
     "text": [
      "\n",
      "\n",
      "\n"
     ]
    },
    {
     "name": "stderr",
     "output_type": "stream",
     "text": [
      "[2023-05-03 14:43:25,096] ERROR in app: Exception on /predictSilver [POST]\n",
      "Traceback (most recent call last):\n",
      "  File \"C:\\Users\\saibu\\anaconda3\\lib\\site-packages\\flask\\app.py\", line 2447, in wsgi_app\n",
      "    response = self.full_dispatch_request()\n",
      "  File \"C:\\Users\\saibu\\anaconda3\\lib\\site-packages\\flask\\app.py\", line 1952, in full_dispatch_request\n",
      "    rv = self.handle_user_exception(e)\n",
      "  File \"C:\\Users\\saibu\\anaconda3\\lib\\site-packages\\flask\\app.py\", line 1821, in handle_user_exception\n",
      "    reraise(exc_type, exc_value, tb)\n",
      "  File \"C:\\Users\\saibu\\anaconda3\\lib\\site-packages\\flask\\_compat.py\", line 39, in reraise\n",
      "    raise value\n",
      "  File \"C:\\Users\\saibu\\anaconda3\\lib\\site-packages\\flask\\app.py\", line 1950, in full_dispatch_request\n",
      "    rv = self.dispatch_request()\n",
      "  File \"C:\\Users\\saibu\\anaconda3\\lib\\site-packages\\flask\\app.py\", line 1936, in dispatch_request\n",
      "    return self.view_functions[rule.endpoint](**req.view_args)\n",
      "  File \"C:\\Users\\saibu\\AppData\\Local\\Temp\\ipykernel_14024\\4103948709.py\", line 18, in predict\n",
      "    high=float(json_['High_Price_In_Rs'])\n",
      "ValueError: could not convert string to float: ''\n",
      "10.7.6.99 - - [03/May/2023 14:43:25] \"POST /predictSilver HTTP/1.1\" 500 -\n",
      "[2023-05-03 14:43:25,115] ERROR in app: Exception on /predictSilver [POST]\n",
      "Traceback (most recent call last):\n",
      "  File \"C:\\Users\\saibu\\anaconda3\\lib\\site-packages\\flask\\app.py\", line 2447, in wsgi_app\n",
      "    response = self.full_dispatch_request()\n",
      "  File \"C:\\Users\\saibu\\anaconda3\\lib\\site-packages\\flask\\app.py\", line 1952, in full_dispatch_request\n",
      "    rv = self.handle_user_exception(e)\n",
      "  File \"C:\\Users\\saibu\\anaconda3\\lib\\site-packages\\flask\\app.py\", line 1821, in handle_user_exception\n",
      "    reraise(exc_type, exc_value, tb)\n",
      "  File \"C:\\Users\\saibu\\anaconda3\\lib\\site-packages\\flask\\_compat.py\", line 39, in reraise\n",
      "    raise value\n",
      "  File \"C:\\Users\\saibu\\anaconda3\\lib\\site-packages\\flask\\app.py\", line 1950, in full_dispatch_request\n",
      "    rv = self.dispatch_request()\n",
      "  File \"C:\\Users\\saibu\\anaconda3\\lib\\site-packages\\flask\\app.py\", line 1936, in dispatch_request\n",
      "    return self.view_functions[rule.endpoint](**req.view_args)\n",
      "  File \"C:\\Users\\saibu\\AppData\\Local\\Temp\\ipykernel_14024\\4103948709.py\", line 18, in predict\n",
      "    high=float(json_['High_Price_In_Rs'])\n",
      "ValueError: could not convert string to float: ''\n",
      "10.7.6.99 - - [03/May/2023 14:43:25] \"POST /predictSilver HTTP/1.1\" 500 -\n"
     ]
    },
    {
     "name": "stdout",
     "output_type": "stream",
     "text": [
      "\n",
      "\n",
      "\n",
      "\n",
      "\n",
      "\n"
     ]
    },
    {
     "name": "stderr",
     "output_type": "stream",
     "text": [
      "C:\\Users\\saibu\\anaconda3\\lib\\site-packages\\sklearn\\base.py:450: UserWarning: X does not have valid feature names, but RandomForestRegressor was fitted with feature names\n",
      "  warnings.warn(\n",
      "C:\\Users\\saibu\\anaconda3\\lib\\site-packages\\sklearn\\base.py:450: UserWarning: X does not have valid feature names, but RandomForestRegressor was fitted with feature names\n",
      "  warnings.warn(\n",
      "C:\\Users\\saibu\\anaconda3\\lib\\site-packages\\sklearn\\base.py:450: UserWarning: X does not have valid feature names, but RandomForestRegressor was fitted with feature names\n",
      "  warnings.warn(\n",
      "C:\\Users\\saibu\\anaconda3\\lib\\site-packages\\sklearn\\base.py:450: UserWarning: X does not have valid feature names, but RandomForestRegressor was fitted with feature names\n",
      "  warnings.warn(\n",
      "10.7.6.99 - - [03/May/2023 14:43:29] \"POST /predictSilver HTTP/1.1\" 200 -\n",
      "10.7.6.99 - - [03/May/2023 14:43:29] \"POST /predictSilver HTTP/1.1\" 200 -\n"
     ]
    },
    {
     "name": "stdout",
     "output_type": "stream",
     "text": [
      "66464\n",
      "35191\n",
      "37649\n",
      "Input is  [66464. 35191. 37649.]\n",
      "66464\n",
      "35191\n",
      "37649\n",
      "Input is  [66464. 35191. 37649.]\n",
      "Predicted value is [50303.28666667]\n",
      "Predicted value is [50303.28666667]\n"
     ]
    },
    {
     "name": "stderr",
     "output_type": "stream",
     "text": [
      "[2023-05-03 15:59:52,530] ERROR in app: Exception on /predictSilver [POST]\n",
      "Traceback (most recent call last):\n",
      "  File \"C:\\Users\\saibu\\anaconda3\\lib\\site-packages\\flask\\app.py\", line 2447, in wsgi_app\n",
      "    response = self.full_dispatch_request()\n",
      "  File \"C:\\Users\\saibu\\anaconda3\\lib\\site-packages\\flask\\app.py\", line 1952, in full_dispatch_request\n",
      "    rv = self.handle_user_exception(e)\n",
      "  File \"C:\\Users\\saibu\\anaconda3\\lib\\site-packages\\flask\\app.py\", line 1821, in handle_user_exception\n",
      "    reraise(exc_type, exc_value, tb)\n",
      "  File \"C:\\Users\\saibu\\anaconda3\\lib\\site-packages\\flask\\_compat.py\", line 39, in reraise\n",
      "    raise value\n",
      "  File \"C:\\Users\\saibu\\anaconda3\\lib\\site-packages\\flask\\app.py\", line 1950, in full_dispatch_request\n",
      "    rv = self.dispatch_request()\n",
      "  File \"C:\\Users\\saibu\\anaconda3\\lib\\site-packages\\flask\\app.py\", line 1936, in dispatch_request\n",
      "    return self.view_functions[rule.endpoint](**req.view_args)\n",
      "  File \"C:\\Users\\saibu\\AppData\\Local\\Temp\\ipykernel_14024\\4103948709.py\", line 18, in predict\n",
      "    high=float(json_['High_Price_In_Rs'])\n",
      "ValueError: could not convert string to float: ''\n",
      "10.7.6.99 - - [03/May/2023 15:59:52] \"POST /predictSilver HTTP/1.1\" 500 -\n"
     ]
    },
    {
     "name": "stdout",
     "output_type": "stream",
     "text": [
      "\n",
      "\n",
      "\n"
     ]
    }
   ],
   "source": [
    "import numpy as np\n",
    "import pandas as pd\n",
    "import pandas as pd\n",
    "from flask import Flask, request, jsonify\n",
    "import pickle\n",
    "from sklearn.ensemble import RandomForestRegressor\n",
    "\n",
    "\n",
    "app = Flask(__name__)\n",
    "model_trainer = pickle.load(open(r'C:/Users/saibu/Downloads/Telegram Desktop/Silver (2).pkl',\"rb\"))\n",
    "\n",
    "@app.route('/predictSilver',methods=['POST'])\n",
    "def predict():\n",
    "        json_ = request.get_json()\n",
    "        print(json_['High_Price_In_Rs'])\n",
    "        print(json_['Low_Price_In_Rs'])\n",
    "        print(json_['Close_Price_In_Rs'])\n",
    "        high=float(json_['High_Price_In_Rs'])\n",
    "        low=float(json_['Low_Price_In_Rs'])\n",
    "        close=float(json_['Close_Price_In_Rs'])\n",
    "       \n",
    "        inputs = pd.DataFrame({\n",
    "                'High_Price_In_Rs':[high],\n",
    "                'Low_Price_In_Rs':[low],\n",
    "                'Close_Price_In_Rs':[close]\n",
    "            })\n",
    "        Input = np.array([high, low, close])\n",
    "        print(\"Input is \",Input)\n",
    "        print(\"Predicted value is\",model_trainer.predict([Input]))\n",
    "        \n",
    "        prediction = model_trainer.predict([Input])++\n",
    "        return jsonify({\"Prediction\": list(prediction)})\n",
    "\n",
    "\n",
    "if __name__ == '__main__':\n",
    "    app.run(\"0.0.0.0\",port=5001)"
   ]
  },
  {
   "cell_type": "code",
   "execution_count": null,
   "id": "c7f2ddbe",
   "metadata": {},
   "outputs": [],
   "source": []
  }
 ],
 "metadata": {
  "kernelspec": {
   "display_name": "Python 3 (ipykernel)",
   "language": "python",
   "name": "python3"
  },
  "language_info": {
   "codemirror_mode": {
    "name": "ipython",
    "version": 3
   },
   "file_extension": ".py",
   "mimetype": "text/x-python",
   "name": "python",
   "nbconvert_exporter": "python",
   "pygments_lexer": "ipython3",
   "version": "3.9.13"
  }
 },
 "nbformat": 4,
 "nbformat_minor": 5
}
